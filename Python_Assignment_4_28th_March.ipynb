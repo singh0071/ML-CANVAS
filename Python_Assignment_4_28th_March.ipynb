{
 "cells": [
  {
   "cell_type": "markdown",
   "metadata": {},
   "source": [
    "# 1.1 Write a Python Program(with class concepts) to find the area of the triangle using the below formula.\n",
    "area = (s*(s-a)*(s-b)*(s-c)) ** 0.5\n",
    "Function to take the length of the sides of triangle from user should be defined in the parent\n",
    "class and function to calculate the area should be defined in subclass."
   ]
  },
  {
   "cell_type": "code",
   "execution_count": 1,
   "metadata": {},
   "outputs": [],
   "source": [
    "#Super Class\n",
    "class Area:\n",
    "    def __init__(self,a,b,c):\n",
    "        #self.a1 = a #.float(input(\"Enter the first number: \"))\n",
    "        #self.b1 = b #.float(input(\"Enter the second number: \"))\n",
    "        #self.c1 = c #.float(input(\"Enter the third number: \"))\n",
    "        self.a1 = float(input(\"Enter the first number: \"))\n",
    "        self.b1 = float(input(\"Enter the second number: \"))\n",
    "        self.c1 = float(input(\"Enter the third number: \"))\n",
    "        print(\"Class Area with sides\")\n"
   ]
  },
  {
   "cell_type": "code",
   "execution_count": 2,
   "metadata": {},
   "outputs": [
    {
     "name": "stdout",
     "output_type": "stream",
     "text": [
      "Enter the first number: 6\n",
      "Enter the second number: 6\n",
      "Enter the third number: 6\n",
      "Class Area with sides\n",
      "Area of the triangle is: 15.588457268119896\n"
     ]
    }
   ],
   "source": [
    "#Sub Class      \n",
    "class subArea(Area):\n",
    "    def __init__(self,a,b,c):\n",
    "        super(subArea,self).__init__(a,b,c)\n",
    "\n",
    "    def calArea(self):\n",
    "        s = (self.a1+self.b1+self.c1)/2\n",
    "        return (s*(s-self.a1)*(s-self.b1)*(s-self.c1)) ** 0.5\n",
    "    \n",
    "Output = subArea(3,4,5)\n",
    "print(\"Area of the triangle is: \" + str(Output.calArea())) "
   ]
  },
  {
   "cell_type": "markdown",
   "metadata": {},
   "source": [
    "# 1.2 Write a function filter_long_words() that takes a list of words and an integer n and returns the list of words that are longer than n."
   ]
  },
  {
   "cell_type": "code",
   "execution_count": 19,
   "metadata": {},
   "outputs": [
    {
     "name": "stdout",
     "output_type": "stream",
     "text": [
      "Initialised word object\n",
      "New List of Words  => ['This', 'Python', 'Class']\n"
     ]
    }
   ],
   "source": [
    "class findnum:\n",
    "    def __init__(self, enterword):\n",
    "        self.enterword1 = enterword\n",
    "        print (\"Initialised word object\")\n",
    "\n",
    "    def filter_long_words(self, n):\n",
    "        return list(filter(lambda x:len(x) > n, self.enterword1))\n",
    "\n",
    "output = findnum([\"This\",\"is\",\"a\",\"Python\",\"Class\"])\n",
    "print (\"New List of Words  => \" + str(output.filter_long_words(3))) "
   ]
  },
  {
   "cell_type": "markdown",
   "metadata": {},
   "source": [
    "# 2.1 Write a Python program using function concept that maps list of words into a list of integers representing the lengths of the corresponding words."
   ]
  },
  {
   "cell_type": "code",
   "execution_count": 20,
   "metadata": {},
   "outputs": [
    {
     "name": "stdout",
     "output_type": "stream",
     "text": [
      "word lengths is: [4, 2, 1, 6, 5]\n"
     ]
    }
   ],
   "source": [
    "wordlen = [\"This\", \"is\", \"a\", \"Python\", \"Class\"]\n",
    "\n",
    "def wordlength(wordlen):\n",
    "    return list(map(lambda x: len(x), wordlen))\n",
    "\n",
    "print (\"word lengths is: \" + str(wordlength(wordlen)))"
   ]
  },
  {
   "cell_type": "markdown",
   "metadata": {},
   "source": [
    "# 2.2 Write a Python function which takes a character (i.e. a string of length 1) and returns True if it is a vowel, False otherwise."
   ]
  },
  {
   "cell_type": "code",
   "execution_count": 3,
   "metadata": {},
   "outputs": [],
   "source": [
    "def vowelchecker(char):\n",
    "    if(char == 'a' or char == 'e' or char == 'i' or char == 'o' or char == 'u'):\n",
    "        return True\n",
    "    else:\n",
    "        return False\n",
    "\n",
    "    char = input(\"Enter character: \")\n",
    "\n",
    "    if(vowelchecker(char)):\n",
    "        print(char, \"is a vowel.\")\n",
    "    else:\n",
    "        print(char, \"is not a vowel.\")"
   ]
  },
  {
   "cell_type": "code",
   "execution_count": null,
   "metadata": {},
   "outputs": [],
   "source": []
  },
  {
   "cell_type": "code",
   "execution_count": null,
   "metadata": {},
   "outputs": [],
   "source": []
  }
 ],
 "metadata": {
  "kernelspec": {
   "display_name": "Python 3",
   "language": "python",
   "name": "python3"
  },
  "language_info": {
   "codemirror_mode": {
    "name": "ipython",
    "version": 3
   },
   "file_extension": ".py",
   "mimetype": "text/x-python",
   "name": "python",
   "nbconvert_exporter": "python",
   "pygments_lexer": "ipython3",
   "version": "3.7.6"
  }
 },
 "nbformat": 4,
 "nbformat_minor": 4
}
